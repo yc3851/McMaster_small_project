{
 "cells": [
  {
   "cell_type": "markdown",
   "metadata": {},
   "source": [
    "`CARET` is a new keyword, denoted as `^`."
   ]
  },
  {
   "cell_type": "code",
   "execution_count": null,
   "metadata": {},
   "outputs": [],
   "source": [
    "TIMES = 1; DIV = 2; MOD = 3; AND = 4; PLUS = 5; MINUS = 6\n",
    "OR = 7; EQ = 8; NE = 9; LT = 10; GT = 11; LE = 12; GE = 13\n",
    "PERIOD = 14; COMMA = 15; COLON = 16; RPAREN = 17; RBRAK = 18\n",
    "OF = 19; THEN = 20; DO = 21; LPAREN = 22; LBRAK = 23; NOT = 24\n",
    "BECOMES = 25; NUMBER = 26; IDENT = 27; SEMICOLON = 28\n",
    "END = 29; ELSE = 30; IF = 31; WHILE = 32; ARRAY = 33\n",
    "RECORD = 34; CONST = 35; TYPE = 36; VAR = 37; PROCEDURE = 38\n",
    "BEGIN = 39; PROGRAM = 40; EOF = 41; CARET = 42; "
   ]
  },
  {
   "cell_type": "code",
   "execution_count": 20,
   "metadata": {},
   "outputs": [],
   "source": [
    "def init(src):\n",
    "    global line, lastline, errline, pos, lastpos, errpos\n",
    "    global sym, val, error, source, index\n",
    "    line, lastline, errline = 1, 1, 1\n",
    "    pos, lastpos, errpos = 0, 0, 0\n",
    "    sym, val, error, source, index = None, None, False, src, 0\n",
    "    getChar(); getSym()"
   ]
  },
  {
   "cell_type": "code",
   "execution_count": 21,
   "metadata": {},
   "outputs": [],
   "source": [
    "def getChar():\n",
    "    global line, lastline, pos, lastpos, ch, index\n",
    "    if index == len(source): ch = chr(0)\n",
    "    else:\n",
    "        ch, index = source[index], index + 1\n",
    "        lastpos = pos\n",
    "        if ch == '\\n':\n",
    "            pos, line = 0, line + 1\n",
    "        else:\n",
    "            lastline, pos = line, pos + 1"
   ]
  },
  {
   "cell_type": "code",
   "execution_count": 22,
   "metadata": {},
   "outputs": [],
   "source": [
    "def mark(msg):\n",
    "    global errline, errpos, error\n",
    "    if lastline > errline or lastpos > errpos:\n",
    "        print('error: line', lastline, 'pos', lastpos, msg)\n",
    "    errline, errpos, error = lastline, lastpos, True"
   ]
  },
  {
   "cell_type": "code",
   "execution_count": 23,
   "metadata": {},
   "outputs": [],
   "source": [
    "def number():\n",
    "    global sym, val\n",
    "    sym, val = NUMBER, 0\n",
    "    while '0' <= ch <= '9':\n",
    "        val = 10 * val + int(ch)\n",
    "        getChar()\n",
    "    if val >= 2**31:\n",
    "        mark('number too large'); val = 0"
   ]
  },
  {
   "cell_type": "code",
   "execution_count": 24,
   "metadata": {},
   "outputs": [],
   "source": [
    "KEYWORDS = \\\n",
    "    {'div': DIV, 'mod': MOD, 'and': AND, 'or': OR, 'of': OF, 'then': THEN,\n",
    "    'do': DO, 'not': NOT, 'end': END, 'else': ELSE, 'if': IF, 'while': WHILE,\n",
    "    'array': ARRAY, 'record': RECORD, 'const': CONST, 'type': TYPE,\n",
    "    'var': VAR, 'procedure': PROCEDURE, 'begin': BEGIN, 'program': PROGRAM}\n",
    "\n",
    "def identKW():\n",
    "    global sym, val\n",
    "    start = index - 1\n",
    "    while ('A' <= ch <= 'Z') or ('a' <= ch <= 'z') or \\\n",
    "          ('0' <= ch <= '9'): getChar()\n",
    "    val = source[start:index-1]\n",
    "    sym = KEYWORDS[val] if val in KEYWORDS else IDENT"
   ]
  },
  {
   "cell_type": "code",
   "execution_count": 25,
   "metadata": {},
   "outputs": [],
   "source": [
    "def comment():\n",
    "    if ch == '{': getChar();\n",
    "    while chr(0) != ch != '}': getChar()\n",
    "    if ch == chr(0): mark('comment not terminated')\n",
    "    else: getChar() # this means that ch == }, then it needs to call getChar()"
   ]
  },
  {
   "cell_type": "code",
   "execution_count": 26,
   "metadata": {},
   "outputs": [],
   "source": [
    "def getSym():\n",
    "    global sym\n",
    "    while chr(0) < ch <= ' ': getChar()\n",
    "    if 'A' <= ch <= 'Z' or 'a' <= ch <= 'z': identKW()\n",
    "    elif '0' <= ch <= '9': number()\n",
    "    elif ch == '{': comment(); getSym()\n",
    "    elif ch == '*': getChar(); sym = TIMES\n",
    "    elif ch == '+': getChar(); sym = PLUS\n",
    "    elif ch == '-': getChar(); sym = MINUS\n",
    "    elif ch == '=': getChar(); sym = EQ\n",
    "    elif ch == '<':\n",
    "        getChar()\n",
    "        if ch == '=': getChar(); sym = LE\n",
    "        elif ch == '>': getChar(); sym = NE\n",
    "        else: sym = LT\n",
    "    elif ch == '>':\n",
    "        getChar()\n",
    "        if ch == '=': getChar(); sym = GE\n",
    "        else: sym = GT\n",
    "    elif ch == ';': getChar(); sym = SEMICOLON\n",
    "    elif ch == ',': getChar(); sym = COMMA\n",
    "    elif ch == ':':\n",
    "        getChar()\n",
    "        if ch == '=': getChar(); sym = BECOMES\n",
    "        else: sym = COLON\n",
    "    elif ch == '.': getChar(); sym = PERIOD\n",
    "    elif ch == '(': getChar(); sym = LPAREN\n",
    "    elif ch == ')': getChar(); sym = RPAREN\n",
    "    elif ch == '[': getChar(); sym = LBRAK\n",
    "    elif ch == ']': getChar(); sym = RBRAK\n",
    "    elif ch == '^': getChar(); sym = CARET #new keyword, CARET, ^\n",
    "    elif ch == chr(0): sym = EOF\n",
    "    else: mark('illegal character'); getChar(); sym = None"
   ]
  },
  {
   "cell_type": "code",
   "execution_count": null,
   "metadata": {},
   "outputs": [],
   "source": []
  }
 ],
 "metadata": {
  "kernelspec": {
   "display_name": "Python 3",
   "language": "python",
   "name": "python3"
  },
  "language_info": {
   "codemirror_mode": {
    "name": "ipython",
    "version": 3
   },
   "file_extension": ".py",
   "mimetype": "text/x-python",
   "name": "python",
   "nbconvert_exporter": "python",
   "pygments_lexer": "ipython3",
   "version": "3.7.4"
  }
 },
 "nbformat": 4,
 "nbformat_minor": 2
}
