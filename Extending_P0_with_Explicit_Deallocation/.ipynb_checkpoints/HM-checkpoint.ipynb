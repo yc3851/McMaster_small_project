{
 "cells": [
  {
   "cell_type": "markdown",
   "metadata": {},
   "source": [
    "## Heap Management Module"
   ]
  },
  {
   "cell_type": "code",
   "execution_count": 1,
   "metadata": {},
   "outputs": [
    {
     "name": "stdout",
     "output_type": "stream",
     "text": [
      "Importing Jupyter notebook from ST.ipynb\n",
      "Importing Jupyter notebook from SC.ipynb\n"
     ]
    }
   ],
   "source": [
    "import nbimporter; nbimporter.options[\"only_defs\"] = False\n",
    "from ST import *\n",
    "from SC import *"
   ]
  },
  {
   "cell_type": "markdown",
   "metadata": {},
   "source": [
    "Each object allocated on the heap is represented by `Node`. Each `Node` has `data` attribute for storing the Pointer"
   ]
  },
  {
   "cell_type": "code",
   "execution_count": 2,
   "metadata": {},
   "outputs": [],
   "source": [
    "class Node:\n",
    "    def __init__(self, data=None, nxt=None, allocated=False, size = 0):\n",
    "        self.data = data # store the Pointer Var\n",
    "        self.nxt = nxt # point to the next block in the Linked-list\n",
    "        self.allocated = allocated # True, if the block is allocated; False, when the allocated object is deallocated\n",
    "        self.size = size # size of the block\n",
    "        if self.data != None:\n",
    "            ##############\n",
    "            if type(self.data.tp) != Pointer:\n",
    "                print(\"error: Node value is not pointer\")\n",
    "            ##############\n",
    "            if self.data.tp.base in (Int, Bool):\n",
    "                self.value = None #default value\n",
    "            elif type(self.data.tp.base) == Array:\n",
    "                self.value = [] #default\n",
    "                self.value += [None]*int(self.data.tp.base.size/4)\n",
    "            elif type(self.data.tp.base) == Record: # for example, type a : record b : integer; c : array [1..5] of integer end;\n",
    "                self.value = []                     # self.value = [None,None,None,None,None,None]; first None for b and the rest for c\n",
    "                self.value += [None]*int(self.data.tp.base.size/4)\n",
    "            else:\n",
    "                print(\"error: undefined type\")\n",
    "        else:\n",
    "            self.value = None\n",
    "    \n",
    "    def get_block(self):\n",
    "        return self.data\n",
    "    \n",
    "    def get_nxt(self):\n",
    "        return self.nxt\n",
    "    \n",
    "    def set_nxt(self,data): # data should be a Node object\n",
    "        if type(data) != Node:\n",
    "            print(\"error: next should be Node\")\n",
    "        else:\n",
    "            self.nxt = data\n",
    "    \n",
    "    def set_value(self,value=None,index=None): # used for assignment, for example, p^ := 4;\n",
    "        if index != None:\n",
    "            self.value[index] = value\n",
    "        else:\n",
    "            self.value = value\n",
    "    \n",
    "    def get_value(self,index=None): # used for assignment, for example, p^:= 4; x := p^; -> x will become 4 at this example\n",
    "        if index != None: #means that self.value is a list (Array or Record)\n",
    "            return self.value[index]\n",
    "        return self.value #self.value is an Int or Bool\n",
    "    \n",
    "    def is_alloc(self): #check the block is allocated or deallocated\n",
    "        return self.allocated\n",
    "\n",
    "    def getSize(self): # return size of the block\n",
    "        return self.size\n",
    "    \n",
    "    def free(self): # used when dispose(p) is called\n",
    "        self.data = None\n",
    "        self.allocated = False\n",
    "        self.value = None\n",
    "    \n",
    "    def __str__(self): # for showing the information of the block\n",
    "        msg = 'size is ' + str(self.size) + ', data: ' + str(self.data) + ', is_alloc: ' + str(self.allocated) + ', value: ' + str(self.value) +', nxt: \\n' + str(self.nxt) \n",
    "        return msg"
   ]
  },
  {
   "cell_type": "markdown",
   "metadata": {},
   "source": [
    "`LinkedList` is represented as the `Heap`. We are using `first-fit` for the allocation."
   ]
  },
  {
   "cell_type": "code",
   "execution_count": 3,
   "metadata": {},
   "outputs": [],
   "source": [
    "class LinkedList:\n",
    "    def __init__(self,start=None):\n",
    "        self.start = start\n",
    "    \n",
    "    def allocate(self,p):#using first fit\n",
    "        current_block = self.start #start at the first block of the linked-list, search for a block which is None or a block has enough space for the allocated object\n",
    "        if current_block != None:\n",
    "            pre_block = None\n",
    "            while current_block != None: \n",
    "                # handle first fit problem\n",
    "                # current block is not allocated and has enough space for p, then current block is the block to allocate p\n",
    "                # if the current block does not have enough space for p, then go the next block\n",
    "                if current_block.is_alloc() == False and current_block.getSize() >= p.tp.base.size: \n",
    "                    break\n",
    "                else:\n",
    "                    pre_block = current_block\n",
    "                    current_block = current_block.get_nxt()\n",
    "            if current_block != None: # means the available block is on the LinkedList \n",
    "                if current_block.getSize() == p.tp.base.size: #if the available block size is exact same as the size of p\n",
    "                    current_block.data = p\n",
    "                    current_block.allocated = True\n",
    "                    current_block.size = p.tp.base.size\n",
    "                else: # the size of p is smalled than the available block, split the available block into two parts\n",
    "                    current_block_size = current_block.getSize()\n",
    "                    new_node_with_data = Node(data=p,allocated=True,size=p.tp.base.size) # one part for p\n",
    "                    new_node_without_data = Node(size=current_block_size - p.tp.base.size) # the other is empty\n",
    "                    if pre_block != None: \n",
    "                        pre_block.set_nxt(new_node_with_data)\n",
    "                    else: # means the available block is at the beginning of the LinkedList\n",
    "                        self.start = new_node_with_data\n",
    "                    new_node_with_data.set_nxt(new_node_without_data)\n",
    "                    new_node_without_data.set_nxt(current_block.get_nxt())\n",
    "            else: # means the available block is not on the LinkedList, add new block is added to the end of the LinkedList\n",
    "                new_node = Node(data=p,allocated=True,size=p.tp.base.size)\n",
    "                pre_block.set_nxt(new_node)\n",
    "        else: # linked-list is empty\n",
    "            new_node = Node(data=p,allocated=True,size=p.tp.base.size)\n",
    "            self.start = new_node\n",
    "    \n",
    "    # deallocate an object on the LinkedList\n",
    "    def deallocate(self,p):\n",
    "        target = self.search(p)\n",
    "        if target == None:\n",
    "            print(str(p),\"is not an object allocated on the heap.\")\n",
    "            return\n",
    "        target.free() # free the memory\n",
    "    \n",
    "    # search for the block that stores the p\n",
    "    # p is a Pointer Var\n",
    "    def search(self,p): \n",
    "        target = self.start\n",
    "        while True: # loop until get the target or reach to the end of the Linked-List\n",
    "            if target == None:\n",
    "                return None\n",
    "            #find the target by checking the name of the var\n",
    "            if not target.is_alloc():\n",
    "                target = target.get_nxt()\n",
    "            elif p.tp.id == target.data.tp.id:\n",
    "                return target\n",
    "            else:\n",
    "                target = target.get_nxt()\n",
    "            "
   ]
  },
  {
   "cell_type": "markdown",
   "metadata": {},
   "source": [
    "## Tests For Implementation of Linked-List"
   ]
  },
  {
   "cell_type": "code",
   "execution_count": 4,
   "metadata": {},
   "outputs": [],
   "source": [
    "linkedlist = LinkedList()"
   ]
  },
  {
   "cell_type": "code",
   "execution_count": 5,
   "metadata": {},
   "outputs": [
    {
     "name": "stdout",
     "output_type": "stream",
     "text": [
      "size is 10, data: Var(name = y, lev = , tp = Pointer(name = , id = 0, lev = , tp = <class 'ST.Int'>)), is_alloc: True, value: None, nxt: \n",
      "size is 10, data: Var(name = z, lev = , tp = Pointer(name = , id = 0, lev = , tp = <class 'ST.Int'>)), is_alloc: True, value: None, nxt: \n",
      "None\n"
     ]
    }
   ],
   "source": [
    "i = Int\n",
    "i.size = 10\n",
    "p = Pointer(i,0)\n",
    "v = Var(p)\n",
    "v.name = 'y'\n",
    "v2 = Var(p)\n",
    "v2.name = 'z'\n",
    "linkedlist.allocate(v)\n",
    "linkedlist.allocate(v2)\n",
    "#print(linkedlist.start)"
   ]
  },
  {
   "cell_type": "code",
   "execution_count": 8,
   "metadata": {},
   "outputs": [],
   "source": [
    "linkedlist.deallocate(v2)"
   ]
  },
  {
   "cell_type": "code",
   "execution_count": 9,
   "metadata": {},
   "outputs": [
    {
     "name": "stdout",
     "output_type": "stream",
     "text": [
      "size is 10, data: None, is_alloc: False, value: None, nxt: \n",
      "size is 10, data: Var(name = z, lev = , tp = Pointer(name = , id = 0, lev = , tp = <class 'ST.Int'>)), is_alloc: True, value: None, nxt: \n",
      "None\n"
     ]
    }
   ],
   "source": [
    "#print(linkedlist.start)"
   ]
  },
  {
   "cell_type": "code",
   "execution_count": 9,
   "metadata": {},
   "outputs": [],
   "source": [
    "i1 = Int\n",
    "i1.size = 4\n",
    "p1 = Pointer(i1,1)\n",
    "v1 = Var(p1)\n",
    "v1.name = 'y1'\n",
    "linkedlist.allocate(v1)"
   ]
  },
  {
   "cell_type": "code",
   "execution_count": 10,
   "metadata": {},
   "outputs": [
    {
     "name": "stdout",
     "output_type": "stream",
     "text": [
      "size is 4, data: Var(name = y1, lev = , tp = Pointer(name = , id = 1, lev = , tp = <class 'ST.Int'>)), is_alloc: True, value: None, nxt: size is 6, data: None, is_alloc: False, value: None, nxt: size is 10, data: Var(name = x, lev = , tp = Pointer(name = , id = 0, lev = , tp = <class 'ST.Int'>)), is_alloc: True, value: None, nxt: None\n"
     ]
    }
   ],
   "source": [
    "#print(linkedlist.start)"
   ]
  },
  {
   "cell_type": "code",
   "execution_count": 11,
   "metadata": {},
   "outputs": [],
   "source": [
    "i2 = Int\n",
    "i2.size = 7\n",
    "p2 = Pointer(i2,2)\n",
    "v2 = Var(p2)\n",
    "v2.name = 'y2'\n",
    "linkedlist.allocate(v2)"
   ]
  },
  {
   "cell_type": "code",
   "execution_count": 12,
   "metadata": {},
   "outputs": [
    {
     "name": "stdout",
     "output_type": "stream",
     "text": [
      "size is 4, data: Var(name = y1, lev = , tp = Pointer(name = , id = 1, lev = , tp = <class 'ST.Int'>)), is_alloc: True, value: None, nxt: size is 6, data: None, is_alloc: False, value: None, nxt: size is 10, data: Var(name = x, lev = , tp = Pointer(name = , id = 0, lev = , tp = <class 'ST.Int'>)), is_alloc: True, value: None, nxt: size is 7, data: Var(name = y2, lev = , tp = Pointer(name = , id = 2, lev = , tp = <class 'ST.Int'>)), is_alloc: True, value: None, nxt: None\n"
     ]
    }
   ],
   "source": [
    "#print(linkedlist.start)"
   ]
  },
  {
   "cell_type": "code",
   "execution_count": 41,
   "metadata": {},
   "outputs": [],
   "source": [
    "i2 = Int\n",
    "i2.size = 6\n",
    "p2 = Pointer(i2,3)\n",
    "v2 = Var(p2)\n",
    "v2.name = 'y3'\n",
    "linkedlist.allocate(v2)"
   ]
  },
  {
   "cell_type": "code",
   "execution_count": 42,
   "metadata": {},
   "outputs": [],
   "source": [
    "#print(linkedlist.start)"
   ]
  },
  {
   "cell_type": "code",
   "execution_count": null,
   "metadata": {},
   "outputs": [],
   "source": []
  }
 ],
 "metadata": {
  "kernelspec": {
   "display_name": "Python 3",
   "language": "python",
   "name": "python3"
  },
  "language_info": {
   "codemirror_mode": {
    "name": "ipython",
    "version": 3
   },
   "file_extension": ".py",
   "mimetype": "text/x-python",
   "name": "python",
   "nbconvert_exporter": "python",
   "pygments_lexer": "ipython3",
   "version": "3.7.4"
  }
 },
 "nbformat": 4,
 "nbformat_minor": 2
}
