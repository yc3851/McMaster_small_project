{
 "cells": [
  {
   "cell_type": "code",
   "execution_count": 1,
   "metadata": {},
   "outputs": [
    {
     "name": "stdout",
     "output_type": "stream",
     "text": [
      "Importing Jupyter notebook from P0.ipynb\n",
      "Importing Jupyter notebook from SC.ipynb\n",
      "Importing Jupyter notebook from ST.ipynb\n",
      "Importing Jupyter notebook from HM.ipynb\n",
      "size is 10, data: None, is_alloc: False, value: None, nxt: \n",
      "size is 10, data: Var(name = x, lev = , tp = Pointer(name = , id = 0, lev = , tp = <class 'ST.Int'>)), is_alloc: True, value: None, nxt: \n",
      "None\n"
     ]
    }
   ],
   "source": [
    "import nbimporter; nbimporter.options[\"only_defs\"] = False\n",
    "from P0 import compileString, pid\n",
    "from ST import printSymTab, find, find2\n",
    "from HM import LinkedList"
   ]
  },
  {
   "cell_type": "code",
   "execution_count": 2,
   "metadata": {},
   "outputs": [],
   "source": [
    "\n",
    "def runpywasm(wasmfile):\n",
    "    import pywasm\n",
    "    def write(i): print(i)\n",
    "    def writeln(): print('\\n')\n",
    "    def read(): return int(input())\n",
    "    # Two StdProc for explicit allocation and deallocation\n",
    "    def new(x): # x is the pid of the pointer type variable; \n",
    "        p = find2(x)\n",
    "        heap.allocate(p)\n",
    "    def dispose(x): # x is the pid of the pointer type variable; \n",
    "        p = find2(x)\n",
    "        heap.deallocate(p)\n",
    "    def set_value(value,pid): # for assignment, p^ := 4;\n",
    "        p = find2(pid)\n",
    "        target = heap.search(p)\n",
    "        if target != None:\n",
    "            target.set_value(value=value)\n",
    "        else:\n",
    "            print(p,\" is not allocated!\")\n",
    "    def get_value(pid): # for example, x := p^\n",
    "        p = find2(pid)\n",
    "        target = heap.search(p)\n",
    "        if target != None:\n",
    "            return target.get_value()\n",
    "        else:\n",
    "            print(p,\" is not allocated!\")\n",
    "            return 0\n",
    "    def set_value1(value,index,pid): #for array\n",
    "        p = find2(pid)\n",
    "        target = heap.search(p)\n",
    "        if target != None:\n",
    "            target.set_value(value=value,index=index)\n",
    "        else:\n",
    "            print(p,\" is not allocated!\")\n",
    "    def get_value1(index,pid):\n",
    "        p = find2(pid)\n",
    "        target = heap.search(p)\n",
    "        if target != None:\n",
    "            return target.get_value(index=index)\n",
    "        else:\n",
    "            print(p,\" is not allocated!\")\n",
    "    def set_value2(index1,index2):\n",
    "        p1 = find2(index1)\n",
    "        p2 = find2(index2)\n",
    "        target1 = heap.search(p1)\n",
    "        target2 = heap.search(p2)\n",
    "        if target1 != None and target2 != None:\n",
    "            target1.value = target2.value\n",
    "        else:\n",
    "            print(\"One/Both of \",p1,' ',p2,\" is/are not allocated!\")\n",
    "    vm = pywasm.load(wasmfile, {'P0lib': {'write': write, 'writeln': writeln, 'read': read, 'new': new, 'dispose': dispose, 'set_value': set_value, 'get_value': get_value, 'set_value1': set_value1, 'get_value1': get_value1, 'set_value2': set_value2}})"
   ]
  },
  {
   "cell_type": "markdown",
   "metadata": {},
   "source": [
    "## Test Cases for explicit allocation and deallocation"
   ]
  },
  {
   "cell_type": "code",
   "execution_count": 20,
   "metadata": {},
   "outputs": [
    {
     "name": "stdout",
     "output_type": "stream",
     "text": [
      "(module\n",
      "(import \"P0lib\" \"write\" (func $write (param i32)))\n",
      "(import \"P0lib\" \"writeln\" (func $writeln))\n",
      "(import \"P0lib\" \"read\" (func $read (result i32)))\n",
      "(import \"P0lib\" \"new\" (func $new (param i32)))\n",
      "(import \"P0lib\" \"dispose\" (func $dispose (param i32)))\n",
      "(import \"P0lib\" \"set_value\" (func $set_value (param i32) (param i32)))\n",
      "(import \"P0lib\" \"get_value\" (func $get_value (param i32) (result i32)))\n",
      "(import \"P0lib\" \"set_value1\" (func $set_value1 (param i32) (param i32) (param i32)))\n",
      "(import \"P0lib\" \"get_value1\" (func $get_value1 (param i32) (param i32) (result i32)))\n",
      "(import \"P0lib\" \"set_value2\" (func $set_value2 (param i32) (param i32)))\n",
      "(func $program\n",
      "i32.const 1\n",
      "call $new\n",
      "i32.const 4\n",
      "call $new\n",
      "i32.const 3\n",
      "i32.const 0\n",
      "i32.const 1\n",
      "call $set_value1\n",
      "i32.const 4\n",
      "i32.const 0\n",
      "i32.const 4\n",
      "call $set_value1\n",
      "i32.const 0\n",
      "i32.const 4\n",
      "call $get_value1\n",
      "call $write\n",
      "i32.const 0\n",
      "i32.const 1\n",
      "call $get_value1\n",
      "call $write\n",
      "i32.const 4\n",
      "call $dispose\n",
      ")\n",
      "(memory 1)\n",
      "(start $program)\n",
      ")\n"
     ]
    }
   ],
   "source": [
    "heap = LinkedList()\n",
    "compileString(\"\"\"\n",
    "program p;\n",
    "  type oo = ^array [1..5] of array [1..5] of array [1..5] of integer;\n",
    "  type oo1 = array [1..5] of array [1..3] of ^record tt : array [1..5] of integer end;\n",
    "  type oo2 = array [1..5] of array [1..5] of integer;\n",
    "  type oo3 = array [1..3] of ^integer;\n",
    "  type i = ^integer;\n",
    "  var x : oo;\n",
    "  var y : oo1;\n",
    "  var z : oo2;\n",
    "  var p1 : oo3;\n",
    "  var p2 : i;\n",
    "  begin\n",
    "    new(y[1][1]);\n",
    "    new(y[2][1]);\n",
    "    y[1][1].tt[1]^ := 3;\n",
    "    y[2][1].tt[1]^  := 4;\n",
    "    write(y[2][1].tt[1]^);\n",
    "    write(y[1][1].tt[1]^);\n",
    "    dispose(y[2][1])\n",
    "  end\n",
    "\"\"\")"
   ]
  },
  {
   "cell_type": "code",
   "execution_count": 21,
   "metadata": {},
   "outputs": [
    {
     "name": "stdout",
     "output_type": "stream",
     "text": [
      "Overwriting test.wat\n"
     ]
    }
   ],
   "source": [
    "%%writefile test.wat\n",
    "(module\n",
    "(import \"P0lib\" \"write\" (func $write (param i32)))\n",
    "(import \"P0lib\" \"writeln\" (func $writeln))\n",
    "(import \"P0lib\" \"read\" (func $read (result i32)))\n",
    "(import \"P0lib\" \"new\" (func $new (param i32)))\n",
    "(import \"P0lib\" \"dispose\" (func $dispose (param i32)))\n",
    "(import \"P0lib\" \"set_value\" (func $set_value (param i32) (param i32)))\n",
    "(import \"P0lib\" \"get_value\" (func $get_value (param i32) (result i32)))\n",
    "(import \"P0lib\" \"set_value1\" (func $set_value1 (param i32) (param i32) (param i32)))\n",
    "(import \"P0lib\" \"get_value1\" (func $get_value1 (param i32) (param i32) (result i32)))\n",
    "(import \"P0lib\" \"set_value2\" (func $set_value2 (param i32) (param i32)))\n",
    "(func $program\n",
    "i32.const 1\n",
    "call $new\n",
    "i32.const 4\n",
    "call $new\n",
    "i32.const 3\n",
    "i32.const 0\n",
    "i32.const 1\n",
    "call $set_value1\n",
    "i32.const 4\n",
    "i32.const 0\n",
    "i32.const 4\n",
    "call $set_value1\n",
    "i32.const 0\n",
    "i32.const 4\n",
    "call $get_value1\n",
    "call $write\n",
    "i32.const 0\n",
    "i32.const 1\n",
    "call $get_value1\n",
    "call $write\n",
    "i32.const 4\n",
    "call $dispose\n",
    ")\n",
    "(memory 1)\n",
    "(start $program)\n",
    ")"
   ]
  },
  {
   "cell_type": "code",
   "execution_count": 22,
   "metadata": {},
   "outputs": [],
   "source": [
    "!wat2wasm test.wat"
   ]
  },
  {
   "cell_type": "code",
   "execution_count": 23,
   "metadata": {},
   "outputs": [
    {
     "name": "stdout",
     "output_type": "stream",
     "text": [
      "4\n",
      "3\n"
     ]
    }
   ],
   "source": [
    "runpywasm(\"test.wasm\")"
   ]
  },
  {
   "cell_type": "code",
   "execution_count": 24,
   "metadata": {},
   "outputs": [
    {
     "name": "stdout",
     "output_type": "stream",
     "text": [
      "size is 20, data: Var(name = y, lev = , tp = Pointer(name = , id = 1, lev = -3, tp = Record(fields = [Var(name = tt, lev = 1, tp = Array(lower = 1, length = 5, base = <class 'ST.Int'>))]))), is_alloc: True, value: [3, None, None, None, None], nxt: \n",
      "size is 20, data: None, is_alloc: False, value: None, nxt: \n",
      "None\n"
     ]
    }
   ],
   "source": [
    "print(heap.start)"
   ]
  },
  {
   "cell_type": "code",
   "execution_count": null,
   "metadata": {},
   "outputs": [],
   "source": []
  },
  {
   "cell_type": "code",
   "execution_count": 9,
   "metadata": {},
   "outputs": [
    {
     "name": "stdout",
     "output_type": "stream",
     "text": [
      "(module\n",
      "(import \"P0lib\" \"write\" (func $write (param i32)))\n",
      "(import \"P0lib\" \"writeln\" (func $writeln))\n",
      "(import \"P0lib\" \"read\" (func $read (result i32)))\n",
      "(import \"P0lib\" \"new\" (func $new (param i32)))\n",
      "(import \"P0lib\" \"dispose\" (func $dispose (param i32)))\n",
      "(import \"P0lib\" \"set_value\" (func $set_value (param i32) (param i32)))\n",
      "(import \"P0lib\" \"get_value\" (func $get_value (param i32) (result i32)))\n",
      "(import \"P0lib\" \"set_value1\" (func $set_value1 (param i32) (param i32) (param i32)))\n",
      "(import \"P0lib\" \"get_value1\" (func $get_value1 (param i32) (param i32) (result i32)))\n",
      "(import \"P0lib\" \"set_value2\" (func $set_value2 (param i32) (param i32)))\n",
      "(func $program\n",
      "i32.const 0\n",
      "call $new\n",
      "i32.const 5\n",
      "i32.const 0\n",
      "call $set_value\n",
      "i32.const 6\n",
      "call $new\n",
      "i32.const 6\n",
      "i32.const 6\n",
      "call $set_value\n",
      "i32.const 6\n",
      "call $get_value\n",
      "call $write\n",
      "i32.const 0\n",
      "call $dispose\n",
      ")\n",
      "(memory 1)\n",
      "(start $program)\n",
      ")\n"
     ]
    }
   ],
   "source": [
    "heap = LinkedList();\n",
    "compileString(\"\"\"\n",
    "program p;\n",
    "  type fp = record tt : array [1..5] of ^integer end;\n",
    "  type test2 = array [1..3] of record tt1 : ^integer end;\n",
    "  var y: fp;\n",
    "  var x : test2;\n",
    "  begin\n",
    "    new(y.tt[1]);\n",
    "    y.tt[1]^ := 5;\n",
    "    new(x[2].tt1);\n",
    "    x[2].tt1^ := 6;\n",
    "    write(x[2].tt1^);\n",
    "    dispose(y.tt[1])\n",
    "  end\n",
    "\"\"\")\n",
    "#printSymTab()"
   ]
  },
  {
   "cell_type": "code",
   "execution_count": 10,
   "metadata": {},
   "outputs": [
    {
     "name": "stdout",
     "output_type": "stream",
     "text": [
      "Overwriting test.wat\n"
     ]
    }
   ],
   "source": [
    "%%writefile test.wat\n",
    "(module\n",
    "(import \"P0lib\" \"write\" (func $write (param i32)))\n",
    "(import \"P0lib\" \"writeln\" (func $writeln))\n",
    "(import \"P0lib\" \"read\" (func $read (result i32)))\n",
    "(import \"P0lib\" \"new\" (func $new (param i32)))\n",
    "(import \"P0lib\" \"dispose\" (func $dispose (param i32)))\n",
    "(import \"P0lib\" \"set_value\" (func $set_value (param i32) (param i32)))\n",
    "(import \"P0lib\" \"get_value\" (func $get_value (param i32) (result i32)))\n",
    "(import \"P0lib\" \"set_value1\" (func $set_value1 (param i32) (param i32) (param i32)))\n",
    "(import \"P0lib\" \"get_value1\" (func $get_value1 (param i32) (param i32) (result i32)))\n",
    "(import \"P0lib\" \"set_value2\" (func $set_value2 (param i32) (param i32)))\n",
    "(func $program\n",
    "i32.const 0\n",
    "call $new\n",
    "i32.const 5\n",
    "i32.const 0\n",
    "call $set_value\n",
    "i32.const 6\n",
    "call $new\n",
    "i32.const 6\n",
    "i32.const 6\n",
    "call $set_value\n",
    "i32.const 6\n",
    "call $get_value\n",
    "call $write\n",
    "i32.const 0\n",
    "call $dispose\n",
    ")\n",
    "(memory 1)\n",
    "(start $program)\n",
    ")"
   ]
  },
  {
   "cell_type": "code",
   "execution_count": 11,
   "metadata": {},
   "outputs": [],
   "source": [
    "!wat2wasm test.wat"
   ]
  },
  {
   "cell_type": "code",
   "execution_count": 12,
   "metadata": {},
   "outputs": [
    {
     "name": "stdout",
     "output_type": "stream",
     "text": [
      "6\n"
     ]
    }
   ],
   "source": [
    "runpywasm(\"test.wasm\")"
   ]
  },
  {
   "cell_type": "code",
   "execution_count": 13,
   "metadata": {},
   "outputs": [
    {
     "name": "stdout",
     "output_type": "stream",
     "text": [
      "size is 4, data: None, is_alloc: False, value: None, nxt: \n",
      "size is 4, data: Var(name = tt1, lev = , tp = Pointer(name = , id = 6, lev = -3, tp = <class 'ST.Int'>)), is_alloc: True, value: 6, nxt: \n",
      "None\n"
     ]
    }
   ],
   "source": [
    "print(heap.start)"
   ]
  },
  {
   "cell_type": "code",
   "execution_count": null,
   "metadata": {},
   "outputs": [],
   "source": []
  },
  {
   "cell_type": "code",
   "execution_count": 25,
   "metadata": {},
   "outputs": [
    {
     "name": "stdout",
     "output_type": "stream",
     "text": [
      "(module\n",
      "(import \"P0lib\" \"write\" (func $write (param i32)))\n",
      "(import \"P0lib\" \"writeln\" (func $writeln))\n",
      "(import \"P0lib\" \"read\" (func $read (result i32)))\n",
      "(import \"P0lib\" \"new\" (func $new (param i32)))\n",
      "(import \"P0lib\" \"dispose\" (func $dispose (param i32)))\n",
      "(import \"P0lib\" \"set_value\" (func $set_value (param i32) (param i32)))\n",
      "(import \"P0lib\" \"get_value\" (func $get_value (param i32) (result i32)))\n",
      "(import \"P0lib\" \"set_value1\" (func $set_value1 (param i32) (param i32) (param i32)))\n",
      "(import \"P0lib\" \"get_value1\" (func $get_value1 (param i32) (param i32) (result i32)))\n",
      "(import \"P0lib\" \"set_value2\" (func $set_value2 (param i32) (param i32)))\n",
      "(global $p2 (mut i32) i32.const 0)\n",
      "(func $q (param $b i32)\n",
      "local.get $b\n",
      "i32.const 0\n",
      "i32.eq\n",
      "local.set $b\n",
      ")\n",
      "(func $program\n",
      "i32.const 7\n",
      "call $new\n",
      "i32.const 1\n",
      "call $new\n",
      "i32.const 4\n",
      "i32.const 0\n",
      "i32.const 7\n",
      "call $set_value1\n",
      "i32.const 0\n",
      "i32.const 7\n",
      "call $get_value1\n",
      "global.set $p2\n",
      "global.get $p2\n",
      "call $write\n",
      "i32.const 0\n",
      "i32.const 7\n",
      "call $get_value1\n",
      "call $write\n",
      ")\n",
      "(memory 1)\n",
      "(start $program)\n",
      ")\n"
     ]
    }
   ],
   "source": [
    "heap = LinkedList();\n",
    "compileString(\"\"\"\n",
    "program p;\n",
    "  type oo = ^array [1..5] of array [1..5] of array [1..5] of integer;\n",
    "  type oo1 = array [1..5] of array [1..3] of array [1..2] of ^record tt : array [1..5] of integer end;\n",
    "  type oo2 = array [1..5] of array [1..5] of integer;\n",
    "  type oo3 = array [1..3] of ^integer;\n",
    "  type i = integer;\n",
    "  var x : oo;\n",
    "  var y : oo1;\n",
    "  var z : oo2;\n",
    "  var p1 : oo3;\n",
    "  var p2 : i;\n",
    "  procedure q(b: boolean);\n",
    "    begin b := b = false\n",
    "    end;\n",
    "  begin\n",
    "    new(y[2][1][1]);\n",
    "    new(y[1][1][1]);\n",
    "    y[2][1][1].tt[1]^ := 4;\n",
    "    p2 := y[2][1][1].tt[1]^;\n",
    "    write(p2);\n",
    "    write(y[2][1][1].tt[1]^)\n",
    "  end\n",
    "\"\"\")\n",
    "#printSymTab()"
   ]
  },
  {
   "cell_type": "code",
   "execution_count": 26,
   "metadata": {},
   "outputs": [
    {
     "name": "stdout",
     "output_type": "stream",
     "text": [
      "Overwriting test.wat\n"
     ]
    }
   ],
   "source": [
    "%%writefile test.wat\n",
    "(module\n",
    "(import \"P0lib\" \"write\" (func $write (param i32)))\n",
    "(import \"P0lib\" \"writeln\" (func $writeln))\n",
    "(import \"P0lib\" \"read\" (func $read (result i32)))\n",
    "(import \"P0lib\" \"new\" (func $new (param i32)))\n",
    "(import \"P0lib\" \"dispose\" (func $dispose (param i32)))\n",
    "(import \"P0lib\" \"set_value\" (func $set_value (param i32) (param i32)))\n",
    "(import \"P0lib\" \"get_value\" (func $get_value (param i32) (result i32)))\n",
    "(import \"P0lib\" \"set_value1\" (func $set_value1 (param i32) (param i32) (param i32)))\n",
    "(import \"P0lib\" \"get_value1\" (func $get_value1 (param i32) (param i32) (result i32)))\n",
    "(import \"P0lib\" \"set_value2\" (func $set_value2 (param i32) (param i32)))\n",
    "(global $p2 (mut i32) i32.const 0)\n",
    "(func $q (param $b i32)\n",
    "local.get $b\n",
    "i32.const 0\n",
    "i32.eq\n",
    "local.set $b\n",
    ")\n",
    "(func $program\n",
    "i32.const 7\n",
    "call $new\n",
    "i32.const 1\n",
    "call $new\n",
    "i32.const 4\n",
    "i32.const 0\n",
    "i32.const 7\n",
    "call $set_value1\n",
    "i32.const 0\n",
    "i32.const 7\n",
    "call $get_value1\n",
    "global.set $p2\n",
    "global.get $p2\n",
    "call $write\n",
    "i32.const 0\n",
    "i32.const 7\n",
    "call $get_value1\n",
    "call $write\n",
    ")\n",
    "(memory 1)\n",
    "(start $program)\n",
    ")"
   ]
  },
  {
   "cell_type": "code",
   "execution_count": 27,
   "metadata": {},
   "outputs": [],
   "source": [
    "!wat2wasm test.wat"
   ]
  },
  {
   "cell_type": "code",
   "execution_count": 28,
   "metadata": {},
   "outputs": [
    {
     "name": "stdout",
     "output_type": "stream",
     "text": [
      "4\n",
      "4\n"
     ]
    }
   ],
   "source": [
    "runpywasm(\"test.wasm\")"
   ]
  },
  {
   "cell_type": "code",
   "execution_count": 29,
   "metadata": {},
   "outputs": [
    {
     "name": "stdout",
     "output_type": "stream",
     "text": [
      "size is 20, data: Var(name = y, lev = , tp = Pointer(name = , id = 7, lev = -3, tp = Record(fields = [Var(name = tt, lev = 1, tp = Array(lower = 1, length = 5, base = <class 'ST.Int'>))]))), is_alloc: True, value: [4, None, None, None, None], nxt: \n",
      "size is 20, data: Var(name = y, lev = , tp = Pointer(name = , id = 1, lev = -3, tp = Record(fields = [Var(name = tt, lev = 1, tp = Array(lower = 1, length = 5, base = <class 'ST.Int'>))]))), is_alloc: True, value: [None, None, None, None, None], nxt: \n",
      "None\n"
     ]
    }
   ],
   "source": [
    "print(heap.start)"
   ]
  },
  {
   "cell_type": "code",
   "execution_count": null,
   "metadata": {},
   "outputs": [],
   "source": []
  },
  {
   "cell_type": "code",
   "execution_count": null,
   "metadata": {},
   "outputs": [],
   "source": []
  },
  {
   "cell_type": "code",
   "execution_count": 18,
   "metadata": {},
   "outputs": [
    {
     "name": "stdout",
     "output_type": "stream",
     "text": [
      "(module\n",
      "(import \"P0lib\" \"write\" (func $write (param i32)))\n",
      "(import \"P0lib\" \"writeln\" (func $writeln))\n",
      "(import \"P0lib\" \"read\" (func $read (result i32)))\n",
      "(import \"P0lib\" \"new\" (func $new (param i32)))\n",
      "(import \"P0lib\" \"dispose\" (func $dispose (param i32)))\n",
      "(import \"P0lib\" \"set_value\" (func $set_value (param i32) (param i32)))\n",
      "(import \"P0lib\" \"get_value\" (func $get_value (param i32) (result i32)))\n",
      "(import \"P0lib\" \"set_value1\" (func $set_value1 (param i32) (param i32) (param i32)))\n",
      "(import \"P0lib\" \"get_value1\" (func $get_value1 (param i32) (param i32) (result i32)))\n",
      "(import \"P0lib\" \"set_value2\" (func $set_value2 (param i32) (param i32)))\n",
      "(func $q (param $b i32)\n",
      "local.get $b\n",
      "i32.const 0\n",
      "i32.eq\n",
      "local.set $b\n",
      ")\n",
      "(func $program\n",
      "i32.const 0\n",
      "call $new\n",
      "i32.const 1\n",
      "call $new\n",
      "i32.const 5\n",
      "call $new\n",
      "i32.const 0\n",
      "i32.const 5\n",
      "i32.store\n",
      "i32.const 0\n",
      "i32.load\n",
      "call $write\n",
      "i32.const 8\n",
      "i32.const 0\n",
      "i32.const 0\n",
      "call $set_value1\n",
      "i32.const 16\n",
      "i32.const 0\n",
      "i32.const 1\n",
      "call $set_value1\n",
      "i32.const 0\n",
      "i32.const 0\n",
      "call $get_value1\n",
      "call $write\n",
      "i32.const 0\n",
      "i32.const 1\n",
      "call $get_value1\n",
      "call $write\n",
      "i32.const 2\n",
      "call $new\n",
      "i32.const 4\n",
      "i32.const 5\n",
      "call $set_value\n",
      "i32.const 2\n",
      "i32.const 5\n",
      "call $set_value2\n",
      ")\n",
      "(memory 1)\n",
      "(start $program)\n",
      ")\n"
     ]
    }
   ],
   "source": [
    "heap = LinkedList();\n",
    "compileString(\"\"\"\n",
    "program p;\n",
    "  type oo = ^array [1..5] of array [1..5] of array [1..5] of integer;\n",
    "  type oo1 = ^array [1..5] of record tt : array [1..5] of integer end;\n",
    "  type oo2 = array [1..5] of array [1..5] of integer;\n",
    "  type oo3 = array [1..3] of ^integer;\n",
    "  type i = ^integer;\n",
    "  var x : oo;\n",
    "  var y : oo1;\n",
    "  var z : oo2;\n",
    "  var p1 : oo3;\n",
    "  var p2 : i;\n",
    "  procedure q(b: boolean);\n",
    "    begin b := b = false\n",
    "    end;\n",
    "  begin\n",
    "    new(x);\n",
    "    new(y);\n",
    "    new(p2);\n",
    "    z[1][1] := 5;\n",
    "    write(z[1][1]);\n",
    "    x[1][1][1]^ := 8;\n",
    "    y[1].tt[1]^ := 16;\n",
    "    write(x[1][1][1]^);\n",
    "    write(y[1].tt[1]^);\n",
    "    new(p1[1]);\n",
    "    p2^ := 4;\n",
    "    p1[1] := p2\n",
    "  end\n",
    "\"\"\")\n",
    "#printSymTab()"
   ]
  },
  {
   "cell_type": "code",
   "execution_count": 19,
   "metadata": {},
   "outputs": [
    {
     "name": "stdout",
     "output_type": "stream",
     "text": [
      "Overwriting test.wat\n"
     ]
    }
   ],
   "source": [
    "%%writefile test.wat\n",
    "(module\n",
    "(import \"P0lib\" \"write\" (func $write (param i32)))\n",
    "(import \"P0lib\" \"writeln\" (func $writeln))\n",
    "(import \"P0lib\" \"read\" (func $read (result i32)))\n",
    "(import \"P0lib\" \"new\" (func $new (param i32)))\n",
    "(import \"P0lib\" \"dispose\" (func $dispose (param i32)))\n",
    "(import \"P0lib\" \"set_value\" (func $set_value (param i32) (param i32)))\n",
    "(import \"P0lib\" \"get_value\" (func $get_value (param i32) (result i32)))\n",
    "(import \"P0lib\" \"set_value1\" (func $set_value1 (param i32) (param i32) (param i32)))\n",
    "(import \"P0lib\" \"get_value1\" (func $get_value1 (param i32) (param i32) (result i32)))\n",
    "(import \"P0lib\" \"set_value2\" (func $set_value2 (param i32) (param i32)))\n",
    "(func $q (param $b i32)\n",
    "local.get $b\n",
    "i32.const 0\n",
    "i32.eq\n",
    "local.set $b\n",
    ")\n",
    "(func $program\n",
    "i32.const 0\n",
    "call $new\n",
    "i32.const 1\n",
    "call $new\n",
    "i32.const 5\n",
    "call $new\n",
    "i32.const 0\n",
    "i32.const 5\n",
    "i32.store\n",
    "i32.const 0\n",
    "i32.load\n",
    "call $write\n",
    "i32.const 8\n",
    "i32.const 0\n",
    "i32.const 0\n",
    "call $set_value1\n",
    "i32.const 16\n",
    "i32.const 0\n",
    "i32.const 1\n",
    "call $set_value1\n",
    "i32.const 0\n",
    "i32.const 0\n",
    "call $get_value1\n",
    "call $write\n",
    "i32.const 0\n",
    "i32.const 1\n",
    "call $get_value1\n",
    "call $write\n",
    "i32.const 2\n",
    "call $new\n",
    "i32.const 4\n",
    "i32.const 5\n",
    "call $set_value\n",
    "i32.const 2\n",
    "i32.const 5\n",
    "call $set_value2\n",
    ")\n",
    "(memory 1)\n",
    "(start $program)\n",
    ")"
   ]
  },
  {
   "cell_type": "code",
   "execution_count": 20,
   "metadata": {},
   "outputs": [],
   "source": [
    "!wat2wasm test.wat"
   ]
  },
  {
   "cell_type": "code",
   "execution_count": 21,
   "metadata": {},
   "outputs": [
    {
     "name": "stdout",
     "output_type": "stream",
     "text": [
      "5\n",
      "8\n",
      "16\n"
     ]
    }
   ],
   "source": [
    "runpywasm(\"test.wasm\")"
   ]
  },
  {
   "cell_type": "code",
   "execution_count": 22,
   "metadata": {},
   "outputs": [
    {
     "name": "stdout",
     "output_type": "stream",
     "text": [
      "size is 500, data: Var(name = x, lev = -3, tp = Pointer(name = , id = 0, lev = , tp = Array(lower = 1, length = 5, base = Array(lower = 1, length = 5, base = Array(lower = 1, length = 5, base = <class 'ST.Int'>))))), is_alloc: True, value: [8, None, None, None, None, None, None, None, None, None, None, None, None, None, None, None, None, None, None, None, None, None, None, None, None, None, None, None, None, None, None, None, None, None, None, None, None, None, None, None, None, None, None, None, None, None, None, None, None, None, None, None, None, None, None, None, None, None, None, None, None, None, None, None, None, None, None, None, None, None, None, None, None, None, None, None, None, None, None, None, None, None, None, None, None, None, None, None, None, None, None, None, None, None, None, None, None, None, None, None, None, None, None, None, None, None, None, None, None, None, None, None, None, None, None, None, None, None, None, None, None, None, None, None, None], nxt: size is 100, data: Var(name = y, lev = -3, tp = Pointer(name = , id = 1, lev = , tp = Array(lower = 1, length = 5, base = Record(fields = [Var(name = tt, lev = 1, tp = Array(lower = 1, length = 5, base = <class 'ST.Int'>))])))), is_alloc: True, value: [16, None, None, None, None, None, None, None, None, None, None, None, None, None, None, None, None, None, None, None, None, None, None, None, None], nxt: size is 4, data: Var(name = p2, lev = -3, tp = Pointer(name = , id = 5, lev = , tp = <class 'ST.Int'>)), is_alloc: True, value: 4, nxt: size is 4, data: Var(name = p1, lev = , tp = Pointer(name = , id = 2, lev = -3, tp = <class 'ST.Int'>)), is_alloc: True, value: 4, nxt: None\n"
     ]
    }
   ],
   "source": [
    "print(heap.start)"
   ]
  },
  {
   "cell_type": "code",
   "execution_count": null,
   "metadata": {},
   "outputs": [],
   "source": []
  },
  {
   "cell_type": "code",
   "execution_count": 23,
   "metadata": {},
   "outputs": [
    {
     "name": "stdout",
     "output_type": "stream",
     "text": [
      "(module\n",
      "(import \"P0lib\" \"write\" (func $write (param i32)))\n",
      "(import \"P0lib\" \"writeln\" (func $writeln))\n",
      "(import \"P0lib\" \"read\" (func $read (result i32)))\n",
      "(import \"P0lib\" \"new\" (func $new (param i32)))\n",
      "(import \"P0lib\" \"dispose\" (func $dispose (param i32)))\n",
      "(import \"P0lib\" \"set_value\" (func $set_value (param i32) (param i32)))\n",
      "(import \"P0lib\" \"get_value\" (func $get_value (param i32) (result i32)))\n",
      "(import \"P0lib\" \"set_value1\" (func $set_value1 (param i32) (param i32) (param i32)))\n",
      "(import \"P0lib\" \"get_value1\" (func $get_value1 (param i32) (param i32) (result i32)))\n",
      "(import \"P0lib\" \"set_value2\" (func $set_value2 (param i32) (param i32)))\n",
      "(global $x (mut i32) i32.const 0)\n",
      "(global $i (mut i32) i32.const 0)\n",
      "(func $q (param $b i32)\n",
      "local.get $b\n",
      "i32.const 0\n",
      "i32.eq\n",
      "local.set $b\n",
      ")\n",
      "(func $program\n",
      "i32.const 2\n",
      "call $new\n",
      "i32.const 3\n",
      "i32.const 2\n",
      "call $set_value\n",
      "i32.const 2\n",
      "call $get_value\n",
      "global.set $x\n",
      "i32.const 2\n",
      "call $get_value\n",
      "call $write\n",
      "i32.const 0\n",
      "call $new\n",
      "i32.const 1\n",
      "call $new\n",
      "i32.const 10\n",
      "i32.const 0\n",
      "i32.const 1\n",
      "call $set_value1\n",
      "i32.const 11\n",
      "i32.const 1\n",
      "i32.const 1\n",
      "call $set_value1\n",
      "i32.const 11\n",
      "i32.const 4\n",
      "i32.const 1\n",
      "call $set_value1\n",
      "i32.const 0\n",
      "i32.const 1\n",
      "call $get_value1\n",
      "call $write\n",
      "i32.const 4\n",
      "i32.const 1\n",
      "call $get_value1\n",
      "call $write\n",
      "i32.const 24\n",
      "i32.const 7\n",
      "i32.store\n",
      "i32.const 24\n",
      "i32.load\n",
      "i32.const 0\n",
      "i32.const 0\n",
      "call $set_value1\n",
      "global.get $x\n",
      "i32.const 7\n",
      "i32.gt_s\n",
      "call $q\n",
      "i32.const 1\n",
      "global.set $i\n",
      "i32.const 3\n",
      "global.get $x\n",
      "i32.mul\n",
      "global.set $x\n",
      "i32.const 24\n",
      "i32.const 6\n",
      "i32.store\n",
      "i32.const 44\n",
      "i32.const 7\n",
      "i32.store\n",
      "global.get $i\n",
      "i32.const 1\n",
      "i32.sub\n",
      "i32.const 4\n",
      "i32.mul\n",
      "i32.const 44\n",
      "i32.add\n",
      "i32.load\n",
      "global.set $x\n",
      "i32.const 24\n",
      "i32.load\n",
      "call $write\n",
      "global.get $x\n",
      "call $write\n",
      "global.get $x\n",
      "i32.const 5\n",
      "i32.mul\n",
      "call $write\n",
      ")\n",
      "(memory 1)\n",
      "(start $program)\n",
      ")\n"
     ]
    }
   ],
   "source": [
    "heap = LinkedList();\n",
    "compileString(\"\"\"\n",
    "program p;\n",
    "  type d = array [1..5] of integer;\n",
    "  type oo = array [1..5] of array [1..5] of integer;\n",
    "  type oo1 = array [1..5] of record tt : integer end;\n",
    "  type d3 = ^array [1..5] of integer;\n",
    "  type d1 = ^record b :integer; c : array [1..5] of integer end;\n",
    "  type a1 = record q :integer; q1 : array [1..5] of integer end;\n",
    "  type d2 = ^integer;\n",
    "  var y : d2;\n",
    "  var x: integer;\n",
    "  var i: integer;\n",
    "  var p : a1;\n",
    "  var z : d;\n",
    "  var z1 : d;\n",
    "  var m : d3;\n",
    "  var n : d1;\n",
    "  procedure q(b: boolean);\n",
    "    begin b := b = false\n",
    "    end;\n",
    "  begin\n",
    "    new(y);\n",
    "    y^ := 3;\n",
    "    x := y^;\n",
    "    write(y^); {print 3}\n",
    "    new(m);\n",
    "    new(n);\n",
    "    n.b^ := 10;\n",
    "    n.c[1]^ := 11;\n",
    "    n.c[4]^ := 11;\n",
    "    write(n.b^);\n",
    "    write(n.c[4]^);\n",
    "    z[1] := 7;\n",
    "    m[1]^ := z[1];\n",
    "    q(x > 7);\n",
    "    i := 1;\n",
    "    x := 3 * x;\n",
    "    z[1] := 6;\n",
    "    z1[1] := 7;\n",
    "    x := z1[i];\n",
    "    write(z[1]); {print 6}\n",
    "    write(x); {print 7}\n",
    "    write(x * 5) {print 35}\n",
    "  end\n",
    "\"\"\")\n",
    "#printSymTab()"
   ]
  },
  {
   "cell_type": "code",
   "execution_count": 24,
   "metadata": {},
   "outputs": [
    {
     "name": "stdout",
     "output_type": "stream",
     "text": [
      "Overwriting test.wat\n"
     ]
    }
   ],
   "source": [
    "%%writefile test.wat\n",
    "(module\n",
    "(import \"P0lib\" \"write\" (func $write (param i32)))\n",
    "(import \"P0lib\" \"writeln\" (func $writeln))\n",
    "(import \"P0lib\" \"read\" (func $read (result i32)))\n",
    "(import \"P0lib\" \"new\" (func $new (param i32)))\n",
    "(import \"P0lib\" \"dispose\" (func $dispose (param i32)))\n",
    "(import \"P0lib\" \"set_value\" (func $set_value (param i32) (param i32)))\n",
    "(import \"P0lib\" \"get_value\" (func $get_value (param i32) (result i32)))\n",
    "(import \"P0lib\" \"set_value1\" (func $set_value1 (param i32) (param i32) (param i32)))\n",
    "(import \"P0lib\" \"get_value1\" (func $get_value1 (param i32) (param i32) (result i32)))\n",
    "(import \"P0lib\" \"set_value2\" (func $set_value2 (param i32) (param i32)))\n",
    "(global $x (mut i32) i32.const 0)\n",
    "(global $i (mut i32) i32.const 0)\n",
    "(func $q (param $b i32)\n",
    "local.get $b\n",
    "i32.const 0\n",
    "i32.eq\n",
    "local.set $b\n",
    ")\n",
    "(func $program\n",
    "i32.const 2\n",
    "call $new\n",
    "i32.const 3\n",
    "i32.const 2\n",
    "call $set_value\n",
    "i32.const 2\n",
    "call $get_value\n",
    "global.set $x\n",
    "i32.const 2\n",
    "call $get_value\n",
    "call $write\n",
    "i32.const 0\n",
    "call $new\n",
    "i32.const 1\n",
    "call $new\n",
    "i32.const 10\n",
    "i32.const 0\n",
    "i32.const 1\n",
    "call $set_value1\n",
    "i32.const 11\n",
    "i32.const 1\n",
    "i32.const 1\n",
    "call $set_value1\n",
    "i32.const 11\n",
    "i32.const 4\n",
    "i32.const 1\n",
    "call $set_value1\n",
    "i32.const 0\n",
    "i32.const 1\n",
    "call $get_value1\n",
    "call $write\n",
    "i32.const 4\n",
    "i32.const 1\n",
    "call $get_value1\n",
    "call $write\n",
    "i32.const 24\n",
    "i32.const 7\n",
    "i32.store\n",
    "i32.const 24\n",
    "i32.load\n",
    "i32.const 0\n",
    "i32.const 0\n",
    "call $set_value1\n",
    "global.get $x\n",
    "i32.const 7\n",
    "i32.gt_s\n",
    "call $q\n",
    "i32.const 1\n",
    "global.set $i\n",
    "i32.const 3\n",
    "global.get $x\n",
    "i32.mul\n",
    "global.set $x\n",
    "i32.const 24\n",
    "i32.const 6\n",
    "i32.store\n",
    "i32.const 44\n",
    "i32.const 7\n",
    "i32.store\n",
    "global.get $i\n",
    "i32.const 1\n",
    "i32.sub\n",
    "i32.const 4\n",
    "i32.mul\n",
    "i32.const 44\n",
    "i32.add\n",
    "i32.load\n",
    "global.set $x\n",
    "i32.const 24\n",
    "i32.load\n",
    "call $write\n",
    "global.get $x\n",
    "call $write\n",
    "global.get $x\n",
    "i32.const 5\n",
    "i32.mul\n",
    "call $write\n",
    ")\n",
    "(memory 1)\n",
    "(start $program)\n",
    ")"
   ]
  },
  {
   "cell_type": "code",
   "execution_count": 25,
   "metadata": {},
   "outputs": [],
   "source": [
    "!wat2wasm test.wat"
   ]
  },
  {
   "cell_type": "code",
   "execution_count": 26,
   "metadata": {},
   "outputs": [
    {
     "name": "stdout",
     "output_type": "stream",
     "text": [
      "3\n",
      "10\n",
      "11\n",
      "6\n",
      "7\n",
      "35\n"
     ]
    }
   ],
   "source": [
    "runpywasm(\"test.wasm\")"
   ]
  },
  {
   "cell_type": "code",
   "execution_count": 27,
   "metadata": {},
   "outputs": [
    {
     "name": "stdout",
     "output_type": "stream",
     "text": [
      "size is 4, data: Var(name = y, lev = -3, tp = Pointer(name = , id = 2, lev = , tp = <class 'ST.Int'>)), is_alloc: True, value: 3, nxt: size is 20, data: Var(name = m, lev = -3, tp = Pointer(name = , id = 0, lev = , tp = Array(lower = 1, length = 5, base = <class 'ST.Int'>))), is_alloc: True, value: [7, None, None, None, None], nxt: size is 24, data: Var(name = n, lev = -3, tp = Pointer(name = , id = 1, lev = , tp = Record(fields = [Var(name = b, lev = 1, tp = <class 'ST.Int'>), Var(name = c, lev = 1, tp = Array(lower = 1, length = 5, base = <class 'ST.Int'>))]))), is_alloc: True, value: [10, 11, None, None, 11, None], nxt: None\n"
     ]
    }
   ],
   "source": [
    "print(heap.start) #for showing"
   ]
  },
  {
   "cell_type": "code",
   "execution_count": 28,
   "metadata": {},
   "outputs": [
    {
     "name": "stdout",
     "output_type": "stream",
     "text": [
      "(module\n",
      "(import \"P0lib\" \"write\" (func $write (param i32)))\n",
      "(import \"P0lib\" \"writeln\" (func $writeln))\n",
      "(import \"P0lib\" \"read\" (func $read (result i32)))\n",
      "(import \"P0lib\" \"new\" (func $new (param i32)))\n",
      "(import \"P0lib\" \"dispose\" (func $dispose (param i32)))\n",
      "(import \"P0lib\" \"set_value\" (func $set_value (param i32) (param i32)))\n",
      "(import \"P0lib\" \"get_value\" (func $get_value (param i32) (result i32)))\n",
      "(import \"P0lib\" \"set_value1\" (func $set_value1 (param i32) (param i32) (param i32)))\n",
      "(import \"P0lib\" \"get_value1\" (func $get_value1 (param i32) (param i32) (result i32)))\n",
      "(import \"P0lib\" \"set_value2\" (func $set_value2 (param i32) (param i32)))\n",
      "(global $y (mut i32) i32.const 0)\n",
      "(func $program\n",
      "global.get $y\n",
      "i32.const 3\n",
      "i32.add\n",
      "global.set $y\n",
      "i32.const 0\n",
      "i32.const 1\n",
      "i32.store\n",
      "global.get $y\n",
      "i32.const 3\n",
      "i32.sub\n",
      "i32.const 4\n",
      "i32.mul\n",
      "i32.const 4\n",
      "i32.add\n",
      "i32.const 5\n",
      "i32.store\n",
      "global.get $y\n",
      "i32.const 3\n",
      "i32.sub\n",
      "i32.const 4\n",
      "i32.mul\n",
      "i32.const 4\n",
      "i32.add\n",
      "i32.load\n",
      "call $write\n",
      ")\n",
      "(memory 1)\n",
      "(start $program)\n",
      ")\n"
     ]
    }
   ],
   "source": [
    "compileString(\"\"\"\n",
    "program p;\n",
    "  type T = array [3..9] of integer;\n",
    "  type U = record f: boolean; g: T end;\n",
    "  var x: U;\n",
    "  var y: integer;\n",
    "  begin\n",
    "    y := y + 3;\n",
    "    x.f := true;\n",
    "    x.g[y] := 5;\n",
    "    write(x.g[y])\n",
    "  end\n",
    "\"\"\")\n",
    "#printSymTab()"
   ]
  },
  {
   "cell_type": "code",
   "execution_count": 29,
   "metadata": {},
   "outputs": [
    {
     "name": "stdout",
     "output_type": "stream",
     "text": [
      "Overwriting test.wat\n"
     ]
    }
   ],
   "source": [
    "%%writefile test.wat\n",
    "(module\n",
    "(import \"P0lib\" \"write\" (func $write (param i32)))\n",
    "(import \"P0lib\" \"writeln\" (func $writeln))\n",
    "(import \"P0lib\" \"read\" (func $read (result i32)))\n",
    "(import \"P0lib\" \"new\" (func $new (param i32)))\n",
    "(import \"P0lib\" \"dispose\" (func $dispose (param i32)))\n",
    "(import \"P0lib\" \"set_value\" (func $set_value (param i32) (param i32)))\n",
    "(import \"P0lib\" \"get_value\" (func $get_value (param i32) (result i32)))\n",
    "(import \"P0lib\" \"set_value1\" (func $set_value1 (param i32) (param i32) (param i32)))\n",
    "(import \"P0lib\" \"get_value1\" (func $get_value1 (param i32) (param i32) (result i32)))\n",
    "(import \"P0lib\" \"set_value2\" (func $set_value2 (param i32) (param i32)))\n",
    "(global $y (mut i32) i32.const 0)\n",
    "(func $program\n",
    "global.get $y\n",
    "i32.const 3\n",
    "i32.add\n",
    "global.set $y\n",
    "i32.const 0\n",
    "i32.const 1\n",
    "i32.store\n",
    "global.get $y\n",
    "i32.const 3\n",
    "i32.sub\n",
    "i32.const 4\n",
    "i32.mul\n",
    "i32.const 4\n",
    "i32.add\n",
    "i32.const 5\n",
    "i32.store\n",
    "global.get $y\n",
    "i32.const 3\n",
    "i32.sub\n",
    "i32.const 4\n",
    "i32.mul\n",
    "i32.const 4\n",
    "i32.add\n",
    "i32.load\n",
    "call $write\n",
    ")\n",
    "(memory 1)\n",
    "(start $program)\n",
    ")"
   ]
  },
  {
   "cell_type": "code",
   "execution_count": 30,
   "metadata": {},
   "outputs": [],
   "source": [
    "!wat2wasm test.wat"
   ]
  },
  {
   "cell_type": "code",
   "execution_count": 31,
   "metadata": {},
   "outputs": [
    {
     "name": "stdout",
     "output_type": "stream",
     "text": [
      "5\n"
     ]
    }
   ],
   "source": [
    "runpywasm(\"test.wasm\")"
   ]
  },
  {
   "cell_type": "code",
   "execution_count": null,
   "metadata": {},
   "outputs": [],
   "source": []
  }
 ],
 "metadata": {
  "kernelspec": {
   "display_name": "Python 3",
   "language": "python",
   "name": "python3"
  },
  "language_info": {
   "codemirror_mode": {
    "name": "ipython",
    "version": 3
   },
   "file_extension": ".py",
   "mimetype": "text/x-python",
   "name": "python",
   "nbconvert_exporter": "python",
   "pygments_lexer": "ipython3",
   "version": "3.7.4"
  }
 },
 "nbformat": 4,
 "nbformat_minor": 2
}
