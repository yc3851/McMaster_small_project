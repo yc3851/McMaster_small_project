{
 "cells": [
  {
   "cell_type": "markdown",
   "metadata": {},
   "source": [
    "## Project Test Suite"
   ]
  },
  {
   "cell_type": "code",
   "execution_count": 1,
   "metadata": {},
   "outputs": [
    {
     "name": "stdout",
     "output_type": "stream",
     "text": [
      "Importing Jupyter notebook from ST.ipynb\n",
      "Importing Jupyter notebook from SC.ipynb\n",
      "Importing Jupyter notebook from P0.ipynb\n",
      "Importing Jupyter notebook from HM.ipynb\n"
     ]
    }
   ],
   "source": [
    "import nbimporter; nbimporter.options[\"only_defs\"] = False\n",
    "from ST import *\n",
    "from SC import *\n",
    "from P0 import compileString, pid\n",
    "from HM import LinkedList, Node"
   ]
  },
  {
   "cell_type": "markdown",
   "metadata": {},
   "source": [
    "### Node Tests"
   ]
  },
  {
   "cell_type": "markdown",
   "metadata": {},
   "source": [
    "error: undefined type"
   ]
  },
  {
   "cell_type": "code",
   "execution_count": 2,
   "metadata": {},
   "outputs": [
    {
     "name": "stdout",
     "output_type": "stream",
     "text": [
      "error: undefined type\n"
     ]
    }
   ],
   "source": [
    "i = Enum\n",
    "i.size = 10\n",
    "p = Pointer(i,0)\n",
    "v = Var(p)\n",
    "new_node = Node(data=v,allocated=True,size=10)"
   ]
  },
  {
   "cell_type": "markdown",
   "metadata": {},
   "source": [
    "error: Node value is not pointer"
   ]
  },
  {
   "cell_type": "code",
   "execution_count": 3,
   "metadata": {},
   "outputs": [
    {
     "name": "stdout",
     "output_type": "stream",
     "text": [
      "error: Node value is not pointer\n"
     ]
    }
   ],
   "source": [
    "i = Int\n",
    "i.size = 10\n",
    "p = Array(i,0,1)\n",
    "v = Ref(p)\n",
    "new_node = Node(data=v,allocated=True,size=10)"
   ]
  },
  {
   "cell_type": "code",
   "execution_count": 4,
   "metadata": {},
   "outputs": [],
   "source": [
    "i = Int\n",
    "i.size = 10\n",
    "p1 = Pointer(i,0)\n",
    "p1.name = 'pointer1'\n",
    "v = Var(p1)\n",
    "v.name = 'x1'\n",
    "p2 = Pointer(i,0)\n",
    "p2.name = 'pointer2'\n",
    "v1 = Var(p2)\n",
    "v1.name = 'x2'\n",
    "new_node = Node(data=v,nxt=v1,allocated=True,size=v.tp.base.size)"
   ]
  },
  {
   "cell_type": "markdown",
   "metadata": {},
   "source": [
    "get_block(self):\\\n",
    "Var(name = x1, lev = , tp = Pointer(name = pointer1, id = 0, lev = , tp = <class 'ST.Int'>))"
   ]
  },
  {
   "cell_type": "code",
   "execution_count": 5,
   "metadata": {},
   "outputs": [
    {
     "name": "stdout",
     "output_type": "stream",
     "text": [
      "Var(name = x1, lev = , tp = Pointer(name = pointer1, id = 0, lev = , tp = <class 'ST.Int'>))\n"
     ]
    }
   ],
   "source": [
    "print(new_node.get_block())"
   ]
  },
  {
   "cell_type": "markdown",
   "metadata": {},
   "source": [
    "get_nxt(self):\\\n",
    "Var(name = x2, lev = , tp = Pointer(name = pointer2, id = 0, lev = , tp = <class 'ST.Int'>))"
   ]
  },
  {
   "cell_type": "code",
   "execution_count": 6,
   "metadata": {},
   "outputs": [
    {
     "name": "stdout",
     "output_type": "stream",
     "text": [
      "Var(name = x2, lev = , tp = Pointer(name = pointer2, id = 0, lev = , tp = <class 'ST.Int'>))\n"
     ]
    }
   ],
   "source": [
    "print(str(new_node.get_nxt()))"
   ]
  },
  {
   "cell_type": "markdown",
   "metadata": {},
   "source": [
    "error: next should be Node"
   ]
  },
  {
   "cell_type": "code",
   "execution_count": 7,
   "metadata": {},
   "outputs": [
    {
     "name": "stdout",
     "output_type": "stream",
     "text": [
      "error: next should be Node\n"
     ]
    }
   ],
   "source": [
    "i = Int\n",
    "i.size = 10\n",
    "p = Pointer(i,0)\n",
    "v3 = Var(p)\n",
    "new_node.set_nxt(v3)"
   ]
  },
  {
   "cell_type": "markdown",
   "metadata": {},
   "source": [
    "set_nxt(self,data)\\\n",
    "size is 10, data: Var(name = next_node, lev = , tp = Pointer(name = , id = 0, lev = , tp = <class 'ST.Int'>)), is_alloc: True, value: None, nxt: \\\n",
    "None"
   ]
  },
  {
   "cell_type": "code",
   "execution_count": 8,
   "metadata": {},
   "outputs": [
    {
     "name": "stdout",
     "output_type": "stream",
     "text": [
      "size is 10, data: Var(name = next_node, lev = , tp = Pointer(name = , id = 0, lev = , tp = <class 'ST.Int'>)), is_alloc: True, value: None, nxt: \n",
      "None\n"
     ]
    }
   ],
   "source": [
    "i = Int\n",
    "i.size = 10\n",
    "p = Pointer(i,0)\n",
    "v3 = Var(p)\n",
    "v3.name = \"next_node\"\n",
    "next_node = Node(data=v3,allocated=True,size=v3.tp.base.size)\n",
    "new_node.set_nxt(next_node)\n",
    "print(new_node.get_nxt())"
   ]
  },
  {
   "cell_type": "markdown",
   "metadata": {},
   "source": [
    "get_value(self,index=None)\\\n",
    "None"
   ]
  },
  {
   "cell_type": "code",
   "execution_count": 9,
   "metadata": {},
   "outputs": [
    {
     "name": "stdout",
     "output_type": "stream",
     "text": [
      "None\n"
     ]
    }
   ],
   "source": [
    "print(new_node.get_value())"
   ]
  },
  {
   "cell_type": "markdown",
   "metadata": {},
   "source": [
    "set_value(self,value=None,index=None)\\\n",
    "1"
   ]
  },
  {
   "cell_type": "code",
   "execution_count": 10,
   "metadata": {},
   "outputs": [
    {
     "name": "stdout",
     "output_type": "stream",
     "text": [
      "1\n"
     ]
    }
   ],
   "source": [
    "new_node.set_value(1)\n",
    "print(new_node.get_value())"
   ]
  },
  {
   "cell_type": "markdown",
   "metadata": {},
   "source": [
    "is_alloc(self)\\\n",
    "True"
   ]
  },
  {
   "cell_type": "code",
   "execution_count": 11,
   "metadata": {},
   "outputs": [
    {
     "name": "stdout",
     "output_type": "stream",
     "text": [
      "True\n"
     ]
    }
   ],
   "source": [
    "print(new_node.is_alloc())"
   ]
  },
  {
   "cell_type": "markdown",
   "metadata": {},
   "source": [
    "getSize(self)\\\n",
    "10"
   ]
  },
  {
   "cell_type": "code",
   "execution_count": 12,
   "metadata": {},
   "outputs": [
    {
     "name": "stdout",
     "output_type": "stream",
     "text": [
      "10\n"
     ]
    }
   ],
   "source": [
    "print(new_node.getSize())"
   ]
  },
  {
   "cell_type": "markdown",
   "metadata": {},
   "source": [
    "free(self)\\\n",
    "size is 10, data: None, is_alloc: False, value: None, nxt: \\\n",
    "size is 10, data: None, is_alloc: False, value: None, nxt: \\\n",
    "None"
   ]
  },
  {
   "cell_type": "code",
   "execution_count": 13,
   "metadata": {},
   "outputs": [
    {
     "name": "stdout",
     "output_type": "stream",
     "text": [
      "size is 10, data: None, is_alloc: False, value: None, nxt: \n",
      "size is 10, data: None, is_alloc: False, value: None, nxt: \n",
      "None\n"
     ]
    }
   ],
   "source": [
    "new_node.free()\n",
    "new_node.get_nxt().free()\n",
    "print(new_node)"
   ]
  },
  {
   "cell_type": "markdown",
   "metadata": {},
   "source": [
    "### Linklist Tests"
   ]
  },
  {
   "cell_type": "code",
   "execution_count": 14,
   "metadata": {},
   "outputs": [
    {
     "name": "stdout",
     "output_type": "stream",
     "text": [
      "None\n"
     ]
    }
   ],
   "source": [
    "linkedlist = LinkedList()\n",
    "print(linkedlist.start)"
   ]
  },
  {
   "cell_type": "code",
   "execution_count": 15,
   "metadata": {},
   "outputs": [],
   "source": [
    "i = Int\n",
    "i.size = 10\n",
    "p = Pointer(i,0)\n",
    "v = Var(p)\n",
    "v.name = 'y'"
   ]
  },
  {
   "cell_type": "markdown",
   "metadata": {},
   "source": [
    "allocate(self,p)\\\n",
    "size is 10, data: Var(name = y, lev = , tp = Pointer(name = , id = 0, lev = , tp = <class 'ST.Int'>)), is_alloc: True, value: None, nxt: \\\n",
    "None"
   ]
  },
  {
   "cell_type": "code",
   "execution_count": 16,
   "metadata": {},
   "outputs": [
    {
     "name": "stdout",
     "output_type": "stream",
     "text": [
      "size is 10, data: Var(name = y, lev = , tp = Pointer(name = , id = 0, lev = , tp = <class 'ST.Int'>)), is_alloc: True, value: None, nxt: \n",
      "None\n"
     ]
    }
   ],
   "source": [
    "linkedlist.allocate(v)\n",
    "print(linkedlist.start)"
   ]
  },
  {
   "cell_type": "markdown",
   "metadata": {},
   "source": [
    "deallocate(self,p)\\\n",
    "size is 10, data: None, is_alloc: False, value: None, nxt: \n",
    "None"
   ]
  },
  {
   "cell_type": "code",
   "execution_count": 17,
   "metadata": {},
   "outputs": [
    {
     "name": "stdout",
     "output_type": "stream",
     "text": [
      "size is 10, data: None, is_alloc: False, value: None, nxt: \n",
      "None\n"
     ]
    }
   ],
   "source": [
    "linkedlist.deallocate(v)\n",
    "print(linkedlist.start)"
   ]
  },
  {
   "cell_type": "markdown",
   "metadata": {},
   "source": [
    "error: not an object\\\n",
    "Var(name = y, lev = , tp = Pointer(name = , id = 0, lev = , tp = <class 'ST.Int'>)) is not an object allocated on the heap."
   ]
  },
  {
   "cell_type": "code",
   "execution_count": 18,
   "metadata": {},
   "outputs": [
    {
     "name": "stdout",
     "output_type": "stream",
     "text": [
      "Var(name = y, lev = , tp = Pointer(name = , id = 0, lev = , tp = <class 'ST.Int'>)) is not an object allocated on the heap.\n"
     ]
    }
   ],
   "source": [
    "linkedlist.deallocate(v)"
   ]
  },
  {
   "cell_type": "markdown",
   "metadata": {},
   "source": [
    "search(self,p)\\\n",
    "size is 10, data: Var(name = y, lev = , tp = Pointer(name = , id = 0, lev = , tp = <class 'ST.Int'>)), is_alloc: True, value: None, nxt: \\\n",
    "size is 10, data: Var(name = x, lev = , tp = Pointer(name = , id = 1, lev = , tp = <class 'ST.Int'>)), is_alloc: True, value: None, nxt: \\\n",
    "None\\\n",
    "\\\n",
    "size is 10, data: Var(name = y, lev = , tp = Pointer(name = , id = 0, lev = , tp = <class 'ST.Int'>)), is_alloc: True, value: None, nxt: \\\n",
    "size is 10, data: None, is_alloc: False, value: None, nxt: \\\n",
    "None"
   ]
  },
  {
   "cell_type": "code",
   "execution_count": 19,
   "metadata": {},
   "outputs": [
    {
     "name": "stdout",
     "output_type": "stream",
     "text": [
      "size is 10, data: Var(name = y, lev = , tp = Pointer(name = , id = 0, lev = , tp = <class 'ST.Int'>)), is_alloc: True, value: None, nxt: \n",
      "size is 10, data: Var(name = x, lev = , tp = Pointer(name = , id = 1, lev = , tp = <class 'ST.Int'>)), is_alloc: True, value: None, nxt: \n",
      "None\n",
      "size is 10, data: Var(name = y, lev = , tp = Pointer(name = , id = 0, lev = , tp = <class 'ST.Int'>)), is_alloc: True, value: None, nxt: \n",
      "size is 10, data: None, is_alloc: False, value: None, nxt: \n",
      "None\n"
     ]
    }
   ],
   "source": [
    "i = Int\n",
    "i.size = 10\n",
    "p = Pointer(i,0)\n",
    "v = Var(p)\n",
    "v.name = 'y'\n",
    "p1 = Pointer(i,1)\n",
    "v2 = Var(p1)\n",
    "v2.name = 'x'\n",
    "linkedlist.allocate(v)\n",
    "linkedlist.allocate(v2)\n",
    "print(linkedlist.start)\n",
    "linkedlist.deallocate(v2)\n",
    "print(linkedlist.start)"
   ]
  },
  {
   "cell_type": "code",
   "execution_count": null,
   "metadata": {},
   "outputs": [],
   "source": []
  }
 ],
 "metadata": {
  "kernelspec": {
   "display_name": "Python 3",
   "language": "python",
   "name": "python3"
  },
  "language_info": {
   "codemirror_mode": {
    "name": "ipython",
    "version": 3
   },
   "file_extension": ".py",
   "mimetype": "text/x-python",
   "name": "python",
   "nbconvert_exporter": "python",
   "pygments_lexer": "ipython3",
   "version": "3.7.4"
  }
 },
 "nbformat": 4,
 "nbformat_minor": 2
}
